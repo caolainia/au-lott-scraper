{
 "cells": [
  {
   "cell_type": "code",
   "execution_count": 5,
   "metadata": {},
   "outputs": [],
   "source": [
    "import pandas as pd\n",
    "import matplotlib.pyplot as plt\n",
    "import numpy as np"
   ]
  },
  {
   "cell_type": "code",
   "execution_count": 35,
   "metadata": {},
   "outputs": [],
   "source": [
    "df6 = pd.read_csv(\"xlotto-result-saturday.csv\")\n",
    "df1 = pd.read_csv(\"xlotto-result-monday.csv\")\n",
    "df3 = pd.read_csv(\"xlotto-result-wednesday.csv\")"
   ]
  },
  {
   "cell_type": "code",
   "execution_count": 48,
   "metadata": {},
   "outputs": [
    {
     "data": {
      "text/html": [
       "<div>\n",
       "<style scoped>\n",
       "    .dataframe tbody tr th:only-of-type {\n",
       "        vertical-align: middle;\n",
       "    }\n",
       "\n",
       "    .dataframe tbody tr th {\n",
       "        vertical-align: top;\n",
       "    }\n",
       "\n",
       "    .dataframe thead th {\n",
       "        text-align: right;\n",
       "    }\n",
       "</style>\n",
       "<table border=\"1\" class=\"dataframe\">\n",
       "  <thead>\n",
       "    <tr style=\"text-align: right;\">\n",
       "      <th></th>\n",
       "      <th>date</th>\n",
       "      <th>num1</th>\n",
       "      <th>num2</th>\n",
       "      <th>num3</th>\n",
       "      <th>num4</th>\n",
       "      <th>num5</th>\n",
       "      <th>num6</th>\n",
       "      <th>sup1</th>\n",
       "      <th>sup2</th>\n",
       "    </tr>\n",
       "  </thead>\n",
       "  <tbody>\n",
       "    <tr>\n",
       "      <th>0</th>\n",
       "      <td>2021-01-25</td>\n",
       "      <td>4</td>\n",
       "      <td>6</td>\n",
       "      <td>20</td>\n",
       "      <td>35</td>\n",
       "      <td>36</td>\n",
       "      <td>40</td>\n",
       "      <td>12</td>\n",
       "      <td>41</td>\n",
       "    </tr>\n",
       "    <tr>\n",
       "      <th>1</th>\n",
       "      <td>2021-01-18</td>\n",
       "      <td>4</td>\n",
       "      <td>13</td>\n",
       "      <td>29</td>\n",
       "      <td>31</td>\n",
       "      <td>38</td>\n",
       "      <td>44</td>\n",
       "      <td>10</td>\n",
       "      <td>23</td>\n",
       "    </tr>\n",
       "    <tr>\n",
       "      <th>2</th>\n",
       "      <td>2021-01-11</td>\n",
       "      <td>13</td>\n",
       "      <td>14</td>\n",
       "      <td>15</td>\n",
       "      <td>22</td>\n",
       "      <td>30</td>\n",
       "      <td>40</td>\n",
       "      <td>5</td>\n",
       "      <td>41</td>\n",
       "    </tr>\n",
       "    <tr>\n",
       "      <th>3</th>\n",
       "      <td>2021-01-04</td>\n",
       "      <td>13</td>\n",
       "      <td>14</td>\n",
       "      <td>20</td>\n",
       "      <td>30</td>\n",
       "      <td>38</td>\n",
       "      <td>41</td>\n",
       "      <td>2</td>\n",
       "      <td>27</td>\n",
       "    </tr>\n",
       "    <tr>\n",
       "      <th>4</th>\n",
       "      <td>2020-12-28</td>\n",
       "      <td>10</td>\n",
       "      <td>16</td>\n",
       "      <td>19</td>\n",
       "      <td>28</td>\n",
       "      <td>39</td>\n",
       "      <td>42</td>\n",
       "      <td>9</td>\n",
       "      <td>18</td>\n",
       "    </tr>\n",
       "  </tbody>\n",
       "</table>\n",
       "</div>"
      ],
      "text/plain": [
       "         date  num1  num2  num3  num4  num5  num6  sup1  sup2\n",
       "0  2021-01-25     4     6    20    35    36    40    12    41\n",
       "1  2021-01-18     4    13    29    31    38    44    10    23\n",
       "2  2021-01-11    13    14    15    22    30    40     5    41\n",
       "3  2021-01-04    13    14    20    30    38    41     2    27\n",
       "4  2020-12-28    10    16    19    28    39    42     9    18"
      ]
     },
     "execution_count": 48,
     "metadata": {},
     "output_type": "execute_result"
    }
   ],
   "source": [
    "df = pd.concat([df1, df3, df6])\n",
    "df['date'] =pd.to_datetime(df.date, dayfirst=True)\n",
    "df['date'] = df['date'].dt.strftime('%Y-%m-%d')"
   ]
  },
  {
   "cell_type": "code",
   "execution_count": 49,
   "metadata": {},
   "outputs": [
    {
     "data": {
      "text/html": [
       "<div>\n",
       "<style scoped>\n",
       "    .dataframe tbody tr th:only-of-type {\n",
       "        vertical-align: middle;\n",
       "    }\n",
       "\n",
       "    .dataframe tbody tr th {\n",
       "        vertical-align: top;\n",
       "    }\n",
       "\n",
       "    .dataframe thead th {\n",
       "        text-align: right;\n",
       "    }\n",
       "</style>\n",
       "<table border=\"1\" class=\"dataframe\">\n",
       "  <thead>\n",
       "    <tr style=\"text-align: right;\">\n",
       "      <th></th>\n",
       "      <th>date</th>\n",
       "      <th>num1</th>\n",
       "      <th>num2</th>\n",
       "      <th>num3</th>\n",
       "      <th>num4</th>\n",
       "      <th>num5</th>\n",
       "      <th>num6</th>\n",
       "      <th>sup1</th>\n",
       "      <th>sup2</th>\n",
       "    </tr>\n",
       "  </thead>\n",
       "  <tbody>\n",
       "    <tr>\n",
       "      <th>0</th>\n",
       "      <td>2021-01-25</td>\n",
       "      <td>4</td>\n",
       "      <td>6</td>\n",
       "      <td>20</td>\n",
       "      <td>35</td>\n",
       "      <td>36</td>\n",
       "      <td>40</td>\n",
       "      <td>12</td>\n",
       "      <td>41</td>\n",
       "    </tr>\n",
       "    <tr>\n",
       "      <th>0</th>\n",
       "      <td>2021-01-23</td>\n",
       "      <td>1</td>\n",
       "      <td>6</td>\n",
       "      <td>8</td>\n",
       "      <td>10</td>\n",
       "      <td>29</td>\n",
       "      <td>40</td>\n",
       "      <td>31</td>\n",
       "      <td>42</td>\n",
       "    </tr>\n",
       "    <tr>\n",
       "      <th>0</th>\n",
       "      <td>2021-01-20</td>\n",
       "      <td>12</td>\n",
       "      <td>20</td>\n",
       "      <td>22</td>\n",
       "      <td>32</td>\n",
       "      <td>38</td>\n",
       "      <td>42</td>\n",
       "      <td>4</td>\n",
       "      <td>41</td>\n",
       "    </tr>\n",
       "    <tr>\n",
       "      <th>1</th>\n",
       "      <td>2021-01-18</td>\n",
       "      <td>4</td>\n",
       "      <td>13</td>\n",
       "      <td>29</td>\n",
       "      <td>31</td>\n",
       "      <td>38</td>\n",
       "      <td>44</td>\n",
       "      <td>10</td>\n",
       "      <td>23</td>\n",
       "    </tr>\n",
       "    <tr>\n",
       "      <th>1</th>\n",
       "      <td>2021-01-16</td>\n",
       "      <td>4</td>\n",
       "      <td>12</td>\n",
       "      <td>14</td>\n",
       "      <td>17</td>\n",
       "      <td>22</td>\n",
       "      <td>33</td>\n",
       "      <td>25</td>\n",
       "      <td>28</td>\n",
       "    </tr>\n",
       "  </tbody>\n",
       "</table>\n",
       "</div>"
      ],
      "text/plain": [
       "         date  num1  num2  num3  num4  num5  num6  sup1  sup2\n",
       "0  2021-01-25     4     6    20    35    36    40    12    41\n",
       "0  2021-01-23     1     6     8    10    29    40    31    42\n",
       "0  2021-01-20    12    20    22    32    38    42     4    41\n",
       "1  2021-01-18     4    13    29    31    38    44    10    23\n",
       "1  2021-01-16     4    12    14    17    22    33    25    28"
      ]
     },
     "execution_count": 49,
     "metadata": {},
     "output_type": "execute_result"
    }
   ],
   "source": [
    "dfa = df.sort_values('date', ascending=False)\n",
    "dfa.head()"
   ]
  },
  {
   "cell_type": "code",
   "execution_count": 50,
   "metadata": {},
   "outputs": [],
   "source": [
    "dfa.to_csv('all_lott.csv', index = False)"
   ]
  },
  {
   "cell_type": "code",
   "execution_count": 51,
   "metadata": {},
   "outputs": [],
   "source": [
    "dfa = dfa.loc[:,'num1':]\n",
    "dif = dfa.diff()"
   ]
  },
  {
   "cell_type": "code",
   "execution_count": 69,
   "metadata": {},
   "outputs": [
    {
     "data": {
      "text/plain": [
       "(array([  1.,   1.,   0.,   1.,   0.,   3.,   4.,   0.,   5.,   0.,   3.,\n",
       "          7.,   0.,  12.,   0.,  11.,  15.,   0.,  15.,   0.,  11.,  21.,\n",
       "          0.,  21.,   0.,  41.,  38.,   0.,  44.,   0.,  61.,  70.,   0.,\n",
       "         89.,   0.,  91., 104.,   0., 131.,   0., 151., 174.,   0., 183.,\n",
       "          0., 227., 252.,   0., 213.,   0., 200., 175.,   0., 150.,   0.,\n",
       "        117., 109.,   0., 101.,   0.,  87.,  72.,   0.,  55.,   0.,  48.,\n",
       "         55.,   0.,  31.,   0.,  31.,  21.,   0.,  13.,   0.,  18.,  14.,\n",
       "          0.,   8.,   0.,   6.,   7.,   0.,   4.,   0.,   3.,   3.,   0.,\n",
       "          1.,   0.,   0.,   0.,   0.,   0.,   0.,   0.,   0.,   0.,   0.,\n",
       "          1.]),\n",
       " array([-28. , -27.4, -26.8, -26.2, -25.6, -25. , -24.4, -23.8, -23.2,\n",
       "        -22.6, -22. , -21.4, -20.8, -20.2, -19.6, -19. , -18.4, -17.8,\n",
       "        -17.2, -16.6, -16. , -15.4, -14.8, -14.2, -13.6, -13. , -12.4,\n",
       "        -11.8, -11.2, -10.6, -10. ,  -9.4,  -8.8,  -8.2,  -7.6,  -7. ,\n",
       "         -6.4,  -5.8,  -5.2,  -4.6,  -4. ,  -3.4,  -2.8,  -2.2,  -1.6,\n",
       "         -1. ,  -0.4,   0.2,   0.8,   1.4,   2. ,   2.6,   3.2,   3.8,\n",
       "          4.4,   5. ,   5.6,   6.2,   6.8,   7.4,   8. ,   8.6,   9.2,\n",
       "          9.8,  10.4,  11. ,  11.6,  12.2,  12.8,  13.4,  14. ,  14.6,\n",
       "         15.2,  15.8,  16.4,  17. ,  17.6,  18.2,  18.8,  19.4,  20. ,\n",
       "         20.6,  21.2,  21.8,  22.4,  23. ,  23.6,  24.2,  24.8,  25.4,\n",
       "         26. ,  26.6,  27.2,  27.8,  28.4,  29. ,  29.6,  30.2,  30.8,\n",
       "         31.4,  32. ]),\n",
       " <BarContainer object of 100 artists>)"
      ]
     },
     "execution_count": 69,
     "metadata": {},
     "output_type": "execute_result"
    },
    {
     "data": {
      "image/png": "[encoded data removed]",
      "text/plain": [
       "<Figure size 432x288 with 1 Axes>"
      ]
     },
     "metadata": {
      "needs_background": "light"
     },
     "output_type": "display_data"
    }
   ],
   "source": [
    "plt.hist(dif['num6'], bins = 100)\n",
    "# dif['num1'].value_counts()"
   ]
  },
  {
   "cell_type": "code",
   "execution_count": 70,
   "metadata": {},
   "outputs": [
    {
     "data": {
      "text/plain": [
       "(array([  2.,   1.,   0.,   0.,   0.,   7.,   0.,   3.,   8.,   0.,  14.,\n",
       "          0.,   9.,   0.,  14.,  24.,   0.,  21.,   0.,  16.,   0.,  26.,\n",
       "         29.,   0.,  40.,   0.,  47.,   0.,  66.,  73.,   0.,  73.,   0.,\n",
       "         87.,   0., 103., 124.,   0., 154.,   0., 174.,   0., 209., 213.,\n",
       "          0., 265.,   0., 223.,   0., 189., 191.,   0., 143.,   0., 114.,\n",
       "          0., 102., 105.,   0.,  62.,   0.,  72.,   0.,  51.,  51.,   0.,\n",
       "         37.,   0.,  39.,   0.,  34.,  20.,   0.,  14.,   0.,  16.,   0.,\n",
       "         16.,  16.,   0.,   6.,   0.,   8.,   0.,   6.,   5.,   0.,   3.,\n",
       "          0.,   1.,   0.,   1.,   1.,   0.,   0.,   0.,   0.,   0.,   0.,\n",
       "          1.]),\n",
       " array([-26.  , -25.43, -24.86, -24.29, -23.72, -23.15, -22.58, -22.01,\n",
       "        -21.44, -20.87, -20.3 , -19.73, -19.16, -18.59, -18.02, -17.45,\n",
       "        -16.88, -16.31, -15.74, -15.17, -14.6 , -14.03, -13.46, -12.89,\n",
       "        -12.32, -11.75, -11.18, -10.61, -10.04,  -9.47,  -8.9 ,  -8.33,\n",
       "         -7.76,  -7.19,  -6.62,  -6.05,  -5.48,  -4.91,  -4.34,  -3.77,\n",
       "         -3.2 ,  -2.63,  -2.06,  -1.49,  -0.92,  -0.35,   0.22,   0.79,\n",
       "          1.36,   1.93,   2.5 ,   3.07,   3.64,   4.21,   4.78,   5.35,\n",
       "          5.92,   6.49,   7.06,   7.63,   8.2 ,   8.77,   9.34,   9.91,\n",
       "         10.48,  11.05,  11.62,  12.19,  12.76,  13.33,  13.9 ,  14.47,\n",
       "         15.04,  15.61,  16.18,  16.75,  17.32,  17.89,  18.46,  19.03,\n",
       "         19.6 ,  20.17,  20.74,  21.31,  21.88,  22.45,  23.02,  23.59,\n",
       "         24.16,  24.73,  25.3 ,  25.87,  26.44,  27.01,  27.58,  28.15,\n",
       "         28.72,  29.29,  29.86,  30.43,  31.  ]),\n",
       " <BarContainer object of 100 artists>)"
      ]
     },
     "execution_count": 70,
     "metadata": {},
     "output_type": "execute_result"
    },
    {
     "data": {
      "image/png": "[encoded data removed]",
      "text/plain": [
       "<Figure size 432x288 with 1 Axes>"
      ]
     },
     "metadata": {
      "needs_background": "light"
     },
     "output_type": "display_data"
    }
   ],
   "source": [
    "dif2 = dfa.diff(periods=2)\n",
    "plt.hist(dif2['num6'], bins =100)"
   ]
  },
  {
   "cell_type": "code",
   "execution_count": 71,
   "metadata": {},
   "outputs": [
    {
     "data": {
      "text/plain": [
       "(array([  2.,   0.,   0.,   3.,   0.,   2.,   0.,   2.,   0.,   7.,   0.,\n",
       "          9.,   0.,  10.,   0.,  11.,  14.,   0.,  10.,   0.,  24.,   0.,\n",
       "         27.,   0.,  19.,   0.,  35.,   0.,  39.,   0.,  50.,   0.,  60.,\n",
       "         67.,   0.,  85.,   0.,  64.,   0., 128.,   0., 141.,   0., 137.,\n",
       "          0., 160.,   0., 197.,   0., 210., 277.,   0., 242.,   0., 207.,\n",
       "          0., 148.,   0., 158.,   0., 109.,   0.,  99.,   0.,  87.,   0.,\n",
       "         83.,  77.,   0.,  62.,   0.,  49.,   0.,  38.,   0.,  39.,   0.,\n",
       "         40.,   0.,  22.,   0.,  17.,   0.,  11.,   9.,   0.,  13.,   0.,\n",
       "          4.,   0.,   6.,   0.,   6.,   0.,   5.,   0.,   4.,   0.,   2.,\n",
       "          1.]),\n",
       " array([-27.  , -26.47, -25.94, -25.41, -24.88, -24.35, -23.82, -23.29,\n",
       "        -22.76, -22.23, -21.7 , -21.17, -20.64, -20.11, -19.58, -19.05,\n",
       "        -18.52, -17.99, -17.46, -16.93, -16.4 , -15.87, -15.34, -14.81,\n",
       "        -14.28, -13.75, -13.22, -12.69, -12.16, -11.63, -11.1 , -10.57,\n",
       "        -10.04,  -9.51,  -8.98,  -8.45,  -7.92,  -7.39,  -6.86,  -6.33,\n",
       "         -5.8 ,  -5.27,  -4.74,  -4.21,  -3.68,  -3.15,  -2.62,  -2.09,\n",
       "         -1.56,  -1.03,  -0.5 ,   0.03,   0.56,   1.09,   1.62,   2.15,\n",
       "          2.68,   3.21,   3.74,   4.27,   4.8 ,   5.33,   5.86,   6.39,\n",
       "          6.92,   7.45,   7.98,   8.51,   9.04,   9.57,  10.1 ,  10.63,\n",
       "         11.16,  11.69,  12.22,  12.75,  13.28,  13.81,  14.34,  14.87,\n",
       "         15.4 ,  15.93,  16.46,  16.99,  17.52,  18.05,  18.58,  19.11,\n",
       "         19.64,  20.17,  20.7 ,  21.23,  21.76,  22.29,  22.82,  23.35,\n",
       "         23.88,  24.41,  24.94,  25.47,  26.  ]),\n",
       " <BarContainer object of 100 artists>)"
      ]
     },
     "execution_count": 71,
     "metadata": {},
     "output_type": "execute_result"
    },
    {
     "data": {
      "image/png": "[encoded data removed]",
      "text/plain": [
       "<Figure size 432x288 with 1 Axes>"
      ]
     },
     "metadata": {
      "needs_background": "light"
     },
     "output_type": "display_data"
    }
   ],
   "source": [
    "dif3 = dfa.diff(periods=3)\n",
    "plt.hist(dif3['num6'], bins =100)"
   ]
  },
  {
   "cell_type": "code",
   "execution_count": 74,
   "metadata": {},
   "outputs": [
    {
     "data": {
      "text/plain": [
       "(array([ 1.,  0.,  0.,  1.,  0.,  0.,  2.,  0.,  0.,  0.,  0.,  0.,  3.,\n",
       "         0.,  0.,  0.,  5.,  0.,  0.,  5.,  0.,  0.,  6.,  0.,  0., 10.,\n",
       "         0.,  0.,  0.,  8.,  0.,  0.,  7.,  0.,  0., 13.,  0.,  0., 20.,\n",
       "         0.,  0., 27.,  0.,  0.,  0., 27.,  0.,  0., 43.,  0.,  0., 52.,\n",
       "         0.,  0., 42.,  0.,  0.,  0., 42.,  0.,  0., 26.,  0.,  0., 17.,\n",
       "         0.,  0., 15.,  0.,  0.,  9.,  0.,  0.,  0.,  7.,  0.,  0.,  8.,\n",
       "         0.,  0., 11.,  0.,  0.,  3.,  0.,  0.,  0.,  2.,  0.,  0.,  4.,\n",
       "         0.,  0.,  1.,  0.,  0.,  1.,  0.,  0.,  1.]),\n",
       " array([-16.  , -15.69, -15.38, -15.07, -14.76, -14.45, -14.14, -13.83,\n",
       "        -13.52, -13.21, -12.9 , -12.59, -12.28, -11.97, -11.66, -11.35,\n",
       "        -11.04, -10.73, -10.42, -10.11,  -9.8 ,  -9.49,  -9.18,  -8.87,\n",
       "         -8.56,  -8.25,  -7.94,  -7.63,  -7.32,  -7.01,  -6.7 ,  -6.39,\n",
       "         -6.08,  -5.77,  -5.46,  -5.15,  -4.84,  -4.53,  -4.22,  -3.91,\n",
       "         -3.6 ,  -3.29,  -2.98,  -2.67,  -2.36,  -2.05,  -1.74,  -1.43,\n",
       "         -1.12,  -0.81,  -0.5 ,  -0.19,   0.12,   0.43,   0.74,   1.05,\n",
       "          1.36,   1.67,   1.98,   2.29,   2.6 ,   2.91,   3.22,   3.53,\n",
       "          3.84,   4.15,   4.46,   4.77,   5.08,   5.39,   5.7 ,   6.01,\n",
       "          6.32,   6.63,   6.94,   7.25,   7.56,   7.87,   8.18,   8.49,\n",
       "          8.8 ,   9.11,   9.42,   9.73,  10.04,  10.35,  10.66,  10.97,\n",
       "         11.28,  11.59,  11.9 ,  12.21,  12.52,  12.83,  13.14,  13.45,\n",
       "         13.76,  14.07,  14.38,  14.69,  15.  ]),\n",
       " <BarContainer object of 100 artists>)"
      ]
     },
     "execution_count": 74,
     "metadata": {},
     "output_type": "execute_result"
    },
    {
     "data": {
      "image/png": "[encoded data removed]",
      "text/plain": [
       "<Figure size 432x288 with 1 Axes>"
      ]
     },
     "metadata": {
      "needs_background": "light"
     },
     "output_type": "display_data"
    }
   ],
   "source": [
    "df_flash = pd.read_csv(\"powerball-flash-result.csv\")\n",
    "dif_flash = df_flash.diff()\n",
    "plt.hist(dif_flash['num1'], bins = 100)"
   ]
  },
  {
   "cell_type": "code",
   "execution_count": 87,
   "metadata": {},
   "outputs": [
    {
     "name": "stdout",
     "output_type": "stream",
     "text": [
      "23\n",
      "0\n"
     ]
    }
   ],
   "source": [
    "dfp = pd.read_csv(\"powerball-result.csv\")\n",
    "dfp_check = dfp.loc[:,'num1':]\n",
    "equal_count = 0\n",
    "for i in range(0,dfp_check.shape[0]):\n",
    "    tocheck = dfp_check.iloc[i]\n",
    "    for index, row in df_flash.iterrows():\n",
    "        if row['num1'] == tocheck[0] and row['num2'] == tocheck[1] and row['num3'] == tocheck[2] and \\\n",
    "        row['num4'] == tocheck[3] and row['num5'] == tocheck[4] and row['num6'] == tocheck[5] and \\\n",
    "        row['num7'] == tocheck[6]:\n",
    "            equal_count += 1\n",
    "            print(\"EQUAL! at \" + str(index))\n",
    "print(equal_count)\n"
   ]
  },
  {
   "cell_type": "code",
   "execution_count": null,
   "metadata": {},
   "outputs": [],
   "source": []
  }
 ],
 "metadata": {
  "kernelspec": {
   "display_name": "Python 3",
   "language": "python",
   "name": "python3"
  },
  "language_info": {
   "codemirror_mode": {
    "name": "ipython",
    "version": 3
   },
   "file_extension": ".py",
   "mimetype": "text/x-python",
   "name": "python",
   "nbconvert_exporter": "python",
   "pygments_lexer": "ipython3",
   "version": "3.8.2"
  }
 },
 "nbformat": 4,
 "nbformat_minor": 4
}
